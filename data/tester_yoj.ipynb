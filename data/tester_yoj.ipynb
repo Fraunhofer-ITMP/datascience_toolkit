{
 "cells": [
  {
   "cell_type": "code",
   "execution_count": 1,
   "metadata": {},
   "outputs": [],
   "source": [
    "import pandas as pd"
   ]
  },
  {
   "cell_type": "code",
   "execution_count": 2,
   "metadata": {},
   "outputs": [
    {
     "data": {
      "text/html": [
       "<div>\n",
       "<style scoped>\n",
       "    .dataframe tbody tr th:only-of-type {\n",
       "        vertical-align: middle;\n",
       "    }\n",
       "\n",
       "    .dataframe tbody tr th {\n",
       "        vertical-align: top;\n",
       "    }\n",
       "\n",
       "    .dataframe thead th {\n",
       "        text-align: right;\n",
       "    }\n",
       "</style>\n",
       "<table border=\"1\" class=\"dataframe\">\n",
       "  <thead>\n",
       "    <tr style=\"text-align: right;\">\n",
       "      <th></th>\n",
       "      <th>Compound Id</th>\n",
       "      <th>SMILES</th>\n",
       "      <th>type</th>\n",
       "    </tr>\n",
       "  </thead>\n",
       "  <tbody>\n",
       "    <tr>\n",
       "      <th>0</th>\n",
       "      <td>SPE_K19975102</td>\n",
       "      <td>Cc1ccc(N=C(O)Nc2cc(C(F)(F)F)ccc2F)cc1Nc1ccc2c(...</td>\n",
       "      <td>SPE</td>\n",
       "    </tr>\n",
       "    <tr>\n",
       "      <th>1</th>\n",
       "      <td>SPE_K49900195</td>\n",
       "      <td>COC(=O)Nc1ccc(-c2nc(N3CCOCC3)c3cnn(C4CCN(Cc5cc...</td>\n",
       "      <td>SPE</td>\n",
       "    </tr>\n",
       "    <tr>\n",
       "      <th>2</th>\n",
       "      <td>SPE_K81849500</td>\n",
       "      <td>C=CC1=C(C)c2cc3[nH]c(cc4nc(cc5[nH]c(cc1n2)c(C)...</td>\n",
       "      <td>SPE</td>\n",
       "    </tr>\n",
       "    <tr>\n",
       "      <th>3</th>\n",
       "      <td>EOS101296</td>\n",
       "      <td>O=c1cc(N2CCOCC2)oc2c(-c3cccc4c3sc3ccccc34)cccc12</td>\n",
       "      <td>EOS</td>\n",
       "    </tr>\n",
       "    <tr>\n",
       "      <th>4</th>\n",
       "      <td>SPE_K72868067</td>\n",
       "      <td>C[C@@H]1COCCN1c1cc(=O)n2c(n1)N(Cc1cncc(Cl)c1)[...</td>\n",
       "      <td>SPE</td>\n",
       "    </tr>\n",
       "    <tr>\n",
       "      <th>...</th>\n",
       "      <td>...</td>\n",
       "      <td>...</td>\n",
       "      <td>...</td>\n",
       "    </tr>\n",
       "    <tr>\n",
       "      <th>8696</th>\n",
       "      <td>DOM_SIM_005</td>\n",
       "      <td>CC(O)=Nc1ccc(CC(=O)O)cc1</td>\n",
       "      <td>DOM</td>\n",
       "    </tr>\n",
       "    <tr>\n",
       "      <th>8697</th>\n",
       "      <td>DOM_SIM_004</td>\n",
       "      <td>CCCC(=O)O[C@]1(C(=O)CO)CC[C@H]2[C@@H]3CCC4=CC(...</td>\n",
       "      <td>DOM</td>\n",
       "    </tr>\n",
       "    <tr>\n",
       "      <th>8698</th>\n",
       "      <td>DOM_SIM_003</td>\n",
       "      <td>CC1=NC[C@H](O)[C@@H](C(=O)O)N1</td>\n",
       "      <td>DOM</td>\n",
       "    </tr>\n",
       "    <tr>\n",
       "      <th>8699</th>\n",
       "      <td>DOM_SIM_002</td>\n",
       "      <td>CN1[C@H]2C[C@H](OC(=O)[C@H](CO)c3ccccc3)C[C@@H...</td>\n",
       "      <td>DOM</td>\n",
       "    </tr>\n",
       "    <tr>\n",
       "      <th>8700</th>\n",
       "      <td>DOM_SIM_001</td>\n",
       "      <td>Cc1cc(C)cc(OCC2CN=C(O)O2)c1</td>\n",
       "      <td>DOM</td>\n",
       "    </tr>\n",
       "  </tbody>\n",
       "</table>\n",
       "<p>8701 rows × 3 columns</p>\n",
       "</div>"
      ],
      "text/plain": [
       "        Compound Id                                             SMILES type\n",
       "0     SPE_K19975102  Cc1ccc(N=C(O)Nc2cc(C(F)(F)F)ccc2F)cc1Nc1ccc2c(...  SPE\n",
       "1     SPE_K49900195  COC(=O)Nc1ccc(-c2nc(N3CCOCC3)c3cnn(C4CCN(Cc5cc...  SPE\n",
       "2     SPE_K81849500  C=CC1=C(C)c2cc3[nH]c(cc4nc(cc5[nH]c(cc1n2)c(C)...  SPE\n",
       "3         EOS101296   O=c1cc(N2CCOCC2)oc2c(-c3cccc4c3sc3ccccc34)cccc12  EOS\n",
       "4     SPE_K72868067  C[C@@H]1COCCN1c1cc(=O)n2c(n1)N(Cc1cncc(Cl)c1)[...  SPE\n",
       "...             ...                                                ...  ...\n",
       "8696    DOM_SIM_005                           CC(O)=Nc1ccc(CC(=O)O)cc1  DOM\n",
       "8697    DOM_SIM_004  CCCC(=O)O[C@]1(C(=O)CO)CC[C@H]2[C@@H]3CCC4=CC(...  DOM\n",
       "8698    DOM_SIM_003                     CC1=NC[C@H](O)[C@@H](C(=O)O)N1  DOM\n",
       "8699    DOM_SIM_002  CN1[C@H]2C[C@H](OC(=O)[C@H](CO)c3ccccc3)C[C@@H...  DOM\n",
       "8700    DOM_SIM_001                        Cc1cc(C)cc(OCC2CN=C(O)O2)c1  DOM\n",
       "\n",
       "[8701 rows x 3 columns]"
      ]
     },
     "execution_count": 2,
     "metadata": {},
     "output_type": "execute_result"
    }
   ],
   "source": [
    "df = pd.read_csv(\"E4C_smiles.csv\", sep=\";\")\n",
    "df[\"type\"] = df[\"Compound Id\"].str[:3]\n",
    "df"
   ]
  },
  {
   "cell_type": "code",
   "execution_count": null,
   "metadata": {},
   "outputs": [],
   "source": []
  },
  {
   "cell_type": "code",
   "execution_count": 3,
   "metadata": {},
   "outputs": [
    {
     "data": {
      "text/plain": [
       "type\n",
       "SPE    5631\n",
       "EOS    2463\n",
       "DOM     607\n",
       "Name: count, dtype: int64"
      ]
     },
     "execution_count": 3,
     "metadata": {},
     "output_type": "execute_result"
    }
   ],
   "source": [
    "df[\"type\"].value_counts()"
   ]
  },
  {
   "cell_type": "code",
   "execution_count": 4,
   "metadata": {},
   "outputs": [],
   "source": [
    "df.drop(columns=[\"Compound Id\"], inplace=True)"
   ]
  },
  {
   "cell_type": "code",
   "execution_count": 5,
   "metadata": {},
   "outputs": [],
   "source": [
    "df.to_csv(\"E4C_smiles.csv\", sep=\";\", index=False)"
   ]
  },
  {
   "cell_type": "code",
   "execution_count": null,
   "metadata": {},
   "outputs": [],
   "source": []
  }
 ],
 "metadata": {
  "kernelspec": {
   "display_name": "scrap",
   "language": "python",
   "name": "scrap"
  },
  "language_info": {
   "codemirror_mode": {
    "name": "ipython",
    "version": 3
   },
   "file_extension": ".py",
   "mimetype": "text/x-python",
   "name": "python",
   "nbconvert_exporter": "python",
   "pygments_lexer": "ipython3",
   "version": "3.9.17"
  }
 },
 "nbformat": 4,
 "nbformat_minor": 2
}
